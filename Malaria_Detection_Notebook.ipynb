{
 "cells": [
  {
   "cell_type": "code",
   "execution_count": 1,
   "id": "stopped-interest",
   "metadata": {},
   "outputs": [],
   "source": [
    "# Step 0. Load libraries and IPython configurations\n",
    "import turicreate as tc\n",
    "import numpy as np\n",
    "import matplotlib.pyplot as plt\n",
    "%matplotlib inline"
   ]
  },
  {
   "cell_type": "code",
   "execution_count": 2,
   "id": "current-protocol",
   "metadata": {},
   "outputs": [
    {
     "data": {
      "text/html": [
       "<pre>Read 6442 images in 5.00054 secs\tspeed: 1288.26 file/sec</pre>"
      ],
      "text/plain": [
       "Read 6442 images in 5.00054 secs\tspeed: 1288.26 file/sec"
      ]
     },
     "metadata": {},
     "output_type": "display_data"
    },
    {
     "data": {
      "text/html": [
       "<pre>Read 12883 images in 10.0009 secs\tspeed: 1288.09 file/sec</pre>"
      ],
      "text/plain": [
       "Read 12883 images in 10.0009 secs\tspeed: 1288.09 file/sec"
      ]
     },
     "metadata": {},
     "output_type": "display_data"
    },
    {
     "data": {
      "text/html": [
       "<pre>Read 19752 images in 15.0022 secs\tspeed: 1373.45 file/sec</pre>"
      ],
      "text/plain": [
       "Read 19752 images in 15.0022 secs\tspeed: 1373.45 file/sec"
      ]
     },
     "metadata": {},
     "output_type": "display_data"
    },
    {
     "data": {
      "text/html": [
       "<pre>Read 26212 images in 20.0027 secs\tspeed: 1291.87 file/sec</pre>"
      ],
      "text/plain": [
       "Read 26212 images in 20.0027 secs\tspeed: 1291.87 file/sec"
      ]
     },
     "metadata": {},
     "output_type": "display_data"
    }
   ],
   "source": [
    "# Step 1. Load images\n",
    "dataset = tc.image_analysis.load_images('Cell_Images', with_path = True)"
   ]
  },
  {
   "cell_type": "code",
   "execution_count": 3,
   "id": "soviet-lunch",
   "metadata": {},
   "outputs": [
    {
     "data": {
      "image/png": "[encoded data removed]",
      "text/plain": [
       "<IPython.core.display.Image object>"
      ]
     },
     "metadata": {},
     "output_type": "display_data"
    },
    {
     "data": {
      "image/png": "[encoded data removed]",
      "text/plain": [
       "<IPython.core.display.Image object>"
      ]
     },
     "metadata": {},
     "output_type": "display_data"
    }
   ],
   "source": [
    "image_sarray = dataset['image']\n",
    "image_sarray[10000].show()\n",
    "image_sarray[20000].show()"
   ]
  },
  {
   "cell_type": "code",
   "execution_count": 4,
   "id": "exotic-concord",
   "metadata": {},
   "outputs": [],
   "source": [
    "resized_images = tc.image_analysis.resize(image_sarray,224,224)"
   ]
  },
  {
   "cell_type": "code",
   "execution_count": 5,
   "id": "primary-closure",
   "metadata": {},
   "outputs": [],
   "source": [
    "dataset['image'] = resized_images"
   ]
  },
  {
   "cell_type": "code",
   "execution_count": 6,
   "id": "decreased-document",
   "metadata": {},
   "outputs": [
    {
     "data": {
      "text/html": [
       "<div style=\"max-height:1000px;max-width:1500px;overflow:auto;\"><table frame=\"box\" rules=\"cols\">\n",
       "    <tr>\n",
       "        <th style=\"padding-left: 1em; padding-right: 1em; text-align: center\">path</th>\n",
       "        <th style=\"padding-left: 1em; padding-right: 1em; text-align: center\">image</th>\n",
       "    </tr>\n",
       "    <tr>\n",
       "        <td style=\"padding-left: 1em; padding-right: 1em; text-align: center; vertical-align: top\">/Users/tixm/Documents/Dat<br>a_Projects/Python/Mal ...</td>\n",
       "        <td style=\"padding-left: 1em; padding-right: 1em; text-align: center; vertical-align: top\">Height: 224 Width: 224</td>\n",
       "    </tr>\n",
       "    <tr>\n",
       "        <td style=\"padding-left: 1em; padding-right: 1em; text-align: center; vertical-align: top\">/Users/tixm/Documents/Dat<br>a_Projects/Python/Mal ...</td>\n",
       "        <td style=\"padding-left: 1em; padding-right: 1em; text-align: center; vertical-align: top\">Height: 224 Width: 224</td>\n",
       "    </tr>\n",
       "    <tr>\n",
       "        <td style=\"padding-left: 1em; padding-right: 1em; text-align: center; vertical-align: top\">/Users/tixm/Documents/Dat<br>a_Projects/Python/Mal ...</td>\n",
       "        <td style=\"padding-left: 1em; padding-right: 1em; text-align: center; vertical-align: top\">Height: 224 Width: 224</td>\n",
       "    </tr>\n",
       "    <tr>\n",
       "        <td style=\"padding-left: 1em; padding-right: 1em; text-align: center; vertical-align: top\">/Users/tixm/Documents/Dat<br>a_Projects/Python/Mal ...</td>\n",
       "        <td style=\"padding-left: 1em; padding-right: 1em; text-align: center; vertical-align: top\">Height: 224 Width: 224</td>\n",
       "    </tr>\n",
       "    <tr>\n",
       "        <td style=\"padding-left: 1em; padding-right: 1em; text-align: center; vertical-align: top\">/Users/tixm/Documents/Dat<br>a_Projects/Python/Mal ...</td>\n",
       "        <td style=\"padding-left: 1em; padding-right: 1em; text-align: center; vertical-align: top\">Height: 224 Width: 224</td>\n",
       "    </tr>\n",
       "    <tr>\n",
       "        <td style=\"padding-left: 1em; padding-right: 1em; text-align: center; vertical-align: top\">/Users/tixm/Documents/Dat<br>a_Projects/Python/Mal ...</td>\n",
       "        <td style=\"padding-left: 1em; padding-right: 1em; text-align: center; vertical-align: top\">Height: 224 Width: 224</td>\n",
       "    </tr>\n",
       "    <tr>\n",
       "        <td style=\"padding-left: 1em; padding-right: 1em; text-align: center; vertical-align: top\">/Users/tixm/Documents/Dat<br>a_Projects/Python/Mal ...</td>\n",
       "        <td style=\"padding-left: 1em; padding-right: 1em; text-align: center; vertical-align: top\">Height: 224 Width: 224</td>\n",
       "    </tr>\n",
       "    <tr>\n",
       "        <td style=\"padding-left: 1em; padding-right: 1em; text-align: center; vertical-align: top\">/Users/tixm/Documents/Dat<br>a_Projects/Python/Mal ...</td>\n",
       "        <td style=\"padding-left: 1em; padding-right: 1em; text-align: center; vertical-align: top\">Height: 224 Width: 224</td>\n",
       "    </tr>\n",
       "    <tr>\n",
       "        <td style=\"padding-left: 1em; padding-right: 1em; text-align: center; vertical-align: top\">/Users/tixm/Documents/Dat<br>a_Projects/Python/Mal ...</td>\n",
       "        <td style=\"padding-left: 1em; padding-right: 1em; text-align: center; vertical-align: top\">Height: 224 Width: 224</td>\n",
       "    </tr>\n",
       "    <tr>\n",
       "        <td style=\"padding-left: 1em; padding-right: 1em; text-align: center; vertical-align: top\">/Users/tixm/Documents/Dat<br>a_Projects/Python/Mal ...</td>\n",
       "        <td style=\"padding-left: 1em; padding-right: 1em; text-align: center; vertical-align: top\">Height: 224 Width: 224</td>\n",
       "    </tr>\n",
       "</table>\n",
       "[10 rows x 2 columns]<br/>\n",
       "</div>"
      ],
      "text/plain": [
       "Columns:\n",
       "\tpath\tstr\n",
       "\timage\tImage\n",
       "\n",
       "Rows: 10\n",
       "\n",
       "Data:\n",
       "+-------------------------------+------------------------+\n",
       "|              path             |         image          |\n",
       "+-------------------------------+------------------------+\n",
       "| /Users/tixm/Documents/Data... | Height: 224 Width: 224 |\n",
       "| /Users/tixm/Documents/Data... | Height: 224 Width: 224 |\n",
       "| /Users/tixm/Documents/Data... | Height: 224 Width: 224 |\n",
       "| /Users/tixm/Documents/Data... | Height: 224 Width: 224 |\n",
       "| /Users/tixm/Documents/Data... | Height: 224 Width: 224 |\n",
       "| /Users/tixm/Documents/Data... | Height: 224 Width: 224 |\n",
       "| /Users/tixm/Documents/Data... | Height: 224 Width: 224 |\n",
       "| /Users/tixm/Documents/Data... | Height: 224 Width: 224 |\n",
       "| /Users/tixm/Documents/Data... | Height: 224 Width: 224 |\n",
       "| /Users/tixm/Documents/Data... | Height: 224 Width: 224 |\n",
       "+-------------------------------+------------------------+\n",
       "[10 rows x 2 columns]"
      ]
     },
     "execution_count": 6,
     "metadata": {},
     "output_type": "execute_result"
    }
   ],
   "source": [
    "dataset.head()"
   ]
  },
  {
   "cell_type": "code",
   "execution_count": 9,
   "id": "adolescent-choice",
   "metadata": {},
   "outputs": [],
   "source": [
    "dataset['label'] = dataset['path'].apply(lambda path: 'malaria' if '/Parasitized' in path else 'not malaria')"
   ]
  },
  {
   "cell_type": "code",
   "execution_count": 10,
   "id": "attended-fellow",
   "metadata": {},
   "outputs": [
    {
     "data": {
      "text/html": [
       "<div style=\"max-height:1000px;max-width:1500px;overflow:auto;\"><table frame=\"box\" rules=\"cols\">\n",
       "    <tr>\n",
       "        <th style=\"padding-left: 1em; padding-right: 1em; text-align: center\">path</th>\n",
       "        <th style=\"padding-left: 1em; padding-right: 1em; text-align: center\">image</th>\n",
       "        <th style=\"padding-left: 1em; padding-right: 1em; text-align: center\">label</th>\n",
       "    </tr>\n",
       "    <tr>\n",
       "        <td style=\"padding-left: 1em; padding-right: 1em; text-align: center; vertical-align: top\">/Users/tixm/Documents/Dat<br>a_Projects/Python/Mal ...</td>\n",
       "        <td style=\"padding-left: 1em; padding-right: 1em; text-align: center; vertical-align: top\">Height: 224 Width: 224</td>\n",
       "        <td style=\"padding-left: 1em; padding-right: 1em; text-align: center; vertical-align: top\">malaria</td>\n",
       "    </tr>\n",
       "    <tr>\n",
       "        <td style=\"padding-left: 1em; padding-right: 1em; text-align: center; vertical-align: top\">/Users/tixm/Documents/Dat<br>a_Projects/Python/Mal ...</td>\n",
       "        <td style=\"padding-left: 1em; padding-right: 1em; text-align: center; vertical-align: top\">Height: 224 Width: 224</td>\n",
       "        <td style=\"padding-left: 1em; padding-right: 1em; text-align: center; vertical-align: top\">malaria</td>\n",
       "    </tr>\n",
       "    <tr>\n",
       "        <td style=\"padding-left: 1em; padding-right: 1em; text-align: center; vertical-align: top\">/Users/tixm/Documents/Dat<br>a_Projects/Python/Mal ...</td>\n",
       "        <td style=\"padding-left: 1em; padding-right: 1em; text-align: center; vertical-align: top\">Height: 224 Width: 224</td>\n",
       "        <td style=\"padding-left: 1em; padding-right: 1em; text-align: center; vertical-align: top\">malaria</td>\n",
       "    </tr>\n",
       "    <tr>\n",
       "        <td style=\"padding-left: 1em; padding-right: 1em; text-align: center; vertical-align: top\">/Users/tixm/Documents/Dat<br>a_Projects/Python/Mal ...</td>\n",
       "        <td style=\"padding-left: 1em; padding-right: 1em; text-align: center; vertical-align: top\">Height: 224 Width: 224</td>\n",
       "        <td style=\"padding-left: 1em; padding-right: 1em; text-align: center; vertical-align: top\">malaria</td>\n",
       "    </tr>\n",
       "    <tr>\n",
       "        <td style=\"padding-left: 1em; padding-right: 1em; text-align: center; vertical-align: top\">/Users/tixm/Documents/Dat<br>a_Projects/Python/Mal ...</td>\n",
       "        <td style=\"padding-left: 1em; padding-right: 1em; text-align: center; vertical-align: top\">Height: 224 Width: 224</td>\n",
       "        <td style=\"padding-left: 1em; padding-right: 1em; text-align: center; vertical-align: top\">malaria</td>\n",
       "    </tr>\n",
       "    <tr>\n",
       "        <td style=\"padding-left: 1em; padding-right: 1em; text-align: center; vertical-align: top\">/Users/tixm/Documents/Dat<br>a_Projects/Python/Mal ...</td>\n",
       "        <td style=\"padding-left: 1em; padding-right: 1em; text-align: center; vertical-align: top\">Height: 224 Width: 224</td>\n",
       "        <td style=\"padding-left: 1em; padding-right: 1em; text-align: center; vertical-align: top\">malaria</td>\n",
       "    </tr>\n",
       "    <tr>\n",
       "        <td style=\"padding-left: 1em; padding-right: 1em; text-align: center; vertical-align: top\">/Users/tixm/Documents/Dat<br>a_Projects/Python/Mal ...</td>\n",
       "        <td style=\"padding-left: 1em; padding-right: 1em; text-align: center; vertical-align: top\">Height: 224 Width: 224</td>\n",
       "        <td style=\"padding-left: 1em; padding-right: 1em; text-align: center; vertical-align: top\">malaria</td>\n",
       "    </tr>\n",
       "    <tr>\n",
       "        <td style=\"padding-left: 1em; padding-right: 1em; text-align: center; vertical-align: top\">/Users/tixm/Documents/Dat<br>a_Projects/Python/Mal ...</td>\n",
       "        <td style=\"padding-left: 1em; padding-right: 1em; text-align: center; vertical-align: top\">Height: 224 Width: 224</td>\n",
       "        <td style=\"padding-left: 1em; padding-right: 1em; text-align: center; vertical-align: top\">malaria</td>\n",
       "    </tr>\n",
       "    <tr>\n",
       "        <td style=\"padding-left: 1em; padding-right: 1em; text-align: center; vertical-align: top\">/Users/tixm/Documents/Dat<br>a_Projects/Python/Mal ...</td>\n",
       "        <td style=\"padding-left: 1em; padding-right: 1em; text-align: center; vertical-align: top\">Height: 224 Width: 224</td>\n",
       "        <td style=\"padding-left: 1em; padding-right: 1em; text-align: center; vertical-align: top\">malaria</td>\n",
       "    </tr>\n",
       "    <tr>\n",
       "        <td style=\"padding-left: 1em; padding-right: 1em; text-align: center; vertical-align: top\">/Users/tixm/Documents/Dat<br>a_Projects/Python/Mal ...</td>\n",
       "        <td style=\"padding-left: 1em; padding-right: 1em; text-align: center; vertical-align: top\">Height: 224 Width: 224</td>\n",
       "        <td style=\"padding-left: 1em; padding-right: 1em; text-align: center; vertical-align: top\">malaria</td>\n",
       "    </tr>\n",
       "</table>\n",
       "[10 rows x 3 columns]<br/>\n",
       "</div>"
      ],
      "text/plain": [
       "Columns:\n",
       "\tpath\tstr\n",
       "\timage\tImage\n",
       "\tlabel\tstr\n",
       "\n",
       "Rows: 10\n",
       "\n",
       "Data:\n",
       "+-------------------------------+------------------------+---------+\n",
       "|              path             |         image          |  label  |\n",
       "+-------------------------------+------------------------+---------+\n",
       "| /Users/tixm/Documents/Data... | Height: 224 Width: 224 | malaria |\n",
       "| /Users/tixm/Documents/Data... | Height: 224 Width: 224 | malaria |\n",
       "| /Users/tixm/Documents/Data... | Height: 224 Width: 224 | malaria |\n",
       "| /Users/tixm/Documents/Data... | Height: 224 Width: 224 | malaria |\n",
       "| /Users/tixm/Documents/Data... | Height: 224 Width: 224 | malaria |\n",
       "| /Users/tixm/Documents/Data... | Height: 224 Width: 224 | malaria |\n",
       "| /Users/tixm/Documents/Data... | Height: 224 Width: 224 | malaria |\n",
       "| /Users/tixm/Documents/Data... | Height: 224 Width: 224 | malaria |\n",
       "| /Users/tixm/Documents/Data... | Height: 224 Width: 224 | malaria |\n",
       "| /Users/tixm/Documents/Data... | Height: 224 Width: 224 | malaria |\n",
       "+-------------------------------+------------------------+---------+\n",
       "[10 rows x 3 columns]"
      ]
     },
     "execution_count": 10,
     "metadata": {},
     "output_type": "execute_result"
    }
   ],
   "source": [
    "dataset.head()"
   ]
  },
  {
   "cell_type": "code",
   "execution_count": 11,
   "id": "sixth-running",
   "metadata": {},
   "outputs": [],
   "source": [
    "train2_data, test_data = dataset.random_split(0.8)\n",
    "train_data, validate_data = train2_data.random_split(0.8)"
   ]
  },
  {
   "cell_type": "code",
   "execution_count": 13,
   "id": "sound-appointment",
   "metadata": {},
   "outputs": [
    {
     "data": {
      "text/html": [
       "<pre>Downloading base mlmodel</pre>"
      ],
      "text/plain": [
       "Downloading base mlmodel"
      ]
     },
     "metadata": {},
     "output_type": "display_data"
    },
    {
     "data": {
      "text/html": [
       "<pre>Downloading https://docs-assets.developer.apple.com/coreml/models/SqueezeNet.mlmodel to /var/folders/3s/fbxlt7n936n42xxcgdmp7h9m0000gn/T/model_cache/squeezenet_v1.1.mlmodel</pre>"
      ],
      "text/plain": [
       "Downloading https://docs-assets.developer.apple.com/coreml/models/SqueezeNet.mlmodel to /var/folders/3s/fbxlt7n936n42xxcgdmp7h9m0000gn/T/model_cache/squeezenet_v1.1.mlmodel"
      ]
     },
     "metadata": {},
     "output_type": "display_data"
    },
    {
     "data": {
      "text/html": [
       "<pre>Using GPU (Intel(R) Iris(TM) Pro Graphics 6200) to extract features.</pre>"
      ],
      "text/plain": [
       "Using GPU (Intel(R) Iris(TM) Pro Graphics 6200) to extract features."
      ]
     },
     "metadata": {},
     "output_type": "display_data"
    },
    {
     "data": {
      "text/html": [
       "<pre>Analyzing and extracting image features.</pre>"
      ],
      "text/plain": [
       "Analyzing and extracting image features."
      ]
     },
     "metadata": {},
     "output_type": "display_data"
    },
    {
     "data": {
      "text/html": [
       "<pre>+------------------+--------------+------------------+</pre>"
      ],
      "text/plain": [
       "+------------------+--------------+------------------+"
      ]
     },
     "metadata": {},
     "output_type": "display_data"
    },
    {
     "data": {
      "text/html": [
       "<pre>| Images Processed | Elapsed Time | Percent Complete |</pre>"
      ],
      "text/plain": [
       "| Images Processed | Elapsed Time | Percent Complete |"
      ]
     },
     "metadata": {},
     "output_type": "display_data"
    },
    {
     "data": {
      "text/html": [
       "<pre>+------------------+--------------+------------------+</pre>"
      ],
      "text/plain": [
       "+------------------+--------------+------------------+"
      ]
     },
     "metadata": {},
     "output_type": "display_data"
    },
    {
     "data": {
      "text/html": [
       "<pre>| 64               | 2.67s        | 0.25%            |</pre>"
      ],
      "text/plain": [
       "| 64               | 2.67s        | 0.25%            |"
      ]
     },
     "metadata": {},
     "output_type": "display_data"
    },
    {
     "data": {
      "text/html": [
       "<pre>| 128              | 3.11s        | 0.5%             |</pre>"
      ],
      "text/plain": [
       "| 128              | 3.11s        | 0.5%             |"
      ]
     },
     "metadata": {},
     "output_type": "display_data"
    },
    {
     "data": {
      "text/html": [
       "<pre>| 192              | 3.59s        | 1%               |</pre>"
      ],
      "text/plain": [
       "| 192              | 3.59s        | 1%               |"
      ]
     },
     "metadata": {},
     "output_type": "display_data"
    },
    {
     "data": {
      "text/html": [
       "<pre>| 256              | 4.03s        | 1.25%            |</pre>"
      ],
      "text/plain": [
       "| 256              | 4.03s        | 1.25%            |"
      ]
     },
     "metadata": {},
     "output_type": "display_data"
    },
    {
     "data": {
      "text/html": [
       "<pre>| 320              | 4.45s        | 1.75%            |</pre>"
      ],
      "text/plain": [
       "| 320              | 4.45s        | 1.75%            |"
      ]
     },
     "metadata": {},
     "output_type": "display_data"
    },
    {
     "data": {
      "text/html": [
       "<pre>| 640              | 6.55s        | 3.5%             |</pre>"
      ],
      "text/plain": [
       "| 640              | 6.55s        | 3.5%             |"
      ]
     },
     "metadata": {},
     "output_type": "display_data"
    },
    {
     "data": {
      "text/html": [
       "<pre>| 1280             | 10.80s       | 7%               |</pre>"
      ],
      "text/plain": [
       "| 1280             | 10.80s       | 7%               |"
      ]
     },
     "metadata": {},
     "output_type": "display_data"
    },
    {
     "data": {
      "text/html": [
       "<pre>| 1920             | 15.01s       | 10.75%           |</pre>"
      ],
      "text/plain": [
       "| 1920             | 15.01s       | 10.75%           |"
      ]
     },
     "metadata": {},
     "output_type": "display_data"
    },
    {
     "data": {
      "text/html": [
       "<pre>| 2560             | 19.21s       | 14.25%           |</pre>"
      ],
      "text/plain": [
       "| 2560             | 19.21s       | 14.25%           |"
      ]
     },
     "metadata": {},
     "output_type": "display_data"
    },
    {
     "data": {
      "text/html": [
       "<pre>| 3200             | 23.42s       | 18%              |</pre>"
      ],
      "text/plain": [
       "| 3200             | 23.42s       | 18%              |"
      ]
     },
     "metadata": {},
     "output_type": "display_data"
    },
    {
     "data": {
      "text/html": [
       "<pre>| 3840             | 27.63s       | 21.5%            |</pre>"
      ],
      "text/plain": [
       "| 3840             | 27.63s       | 21.5%            |"
      ]
     },
     "metadata": {},
     "output_type": "display_data"
    },
    {
     "data": {
      "text/html": [
       "<pre>| 4480             | 31.84s       | 25.25%           |</pre>"
      ],
      "text/plain": [
       "| 4480             | 31.84s       | 25.25%           |"
      ]
     },
     "metadata": {},
     "output_type": "display_data"
    },
    {
     "data": {
      "text/html": [
       "<pre>| 5120             | 36.04s       | 28.75%           |</pre>"
      ],
      "text/plain": [
       "| 5120             | 36.04s       | 28.75%           |"
      ]
     },
     "metadata": {},
     "output_type": "display_data"
    },
    {
     "data": {
      "text/html": [
       "<pre>| 5760             | 40.35s       | 32.5%            |</pre>"
      ],
      "text/plain": [
       "| 5760             | 40.35s       | 32.5%            |"
      ]
     },
     "metadata": {},
     "output_type": "display_data"
    },
    {
     "data": {
      "text/html": [
       "<pre>| 6400             | 44.54s       | 36%              |</pre>"
      ],
      "text/plain": [
       "| 6400             | 44.54s       | 36%              |"
      ]
     },
     "metadata": {},
     "output_type": "display_data"
    },
    {
     "data": {
      "text/html": [
       "<pre>| 7040             | 48.74s       | 39.75%           |</pre>"
      ],
      "text/plain": [
       "| 7040             | 48.74s       | 39.75%           |"
      ]
     },
     "metadata": {},
     "output_type": "display_data"
    },
    {
     "data": {
      "text/html": [
       "<pre>| 7680             | 52.97s       | 43.25%           |</pre>"
      ],
      "text/plain": [
       "| 7680             | 52.97s       | 43.25%           |"
      ]
     },
     "metadata": {},
     "output_type": "display_data"
    },
    {
     "data": {
      "text/html": [
       "<pre>| 8320             | 57.17s       | 47%              |</pre>"
      ],
      "text/plain": [
       "| 8320             | 57.17s       | 47%              |"
      ]
     },
     "metadata": {},
     "output_type": "display_data"
    },
    {
     "data": {
      "text/html": [
       "<pre>| 8960             | 1m 1s        | 50.5%            |</pre>"
      ],
      "text/plain": [
       "| 8960             | 1m 1s        | 50.5%            |"
      ]
     },
     "metadata": {},
     "output_type": "display_data"
    },
    {
     "data": {
      "text/html": [
       "<pre>| 9600             | 1m 5s        | 54.25%           |</pre>"
      ],
      "text/plain": [
       "| 9600             | 1m 5s        | 54.25%           |"
      ]
     },
     "metadata": {},
     "output_type": "display_data"
    },
    {
     "data": {
      "text/html": [
       "<pre>| 10240            | 1m 9s        | 57.75%           |</pre>"
      ],
      "text/plain": [
       "| 10240            | 1m 9s        | 57.75%           |"
      ]
     },
     "metadata": {},
     "output_type": "display_data"
    },
    {
     "data": {
      "text/html": [
       "<pre>| 10880            | 1m 14s       | 61.5%            |</pre>"
      ],
      "text/plain": [
       "| 10880            | 1m 14s       | 61.5%            |"
      ]
     },
     "metadata": {},
     "output_type": "display_data"
    },
    {
     "data": {
      "text/html": [
       "<pre>| 11520            | 1m 18s       | 65%              |</pre>"
      ],
      "text/plain": [
       "| 11520            | 1m 18s       | 65%              |"
      ]
     },
     "metadata": {},
     "output_type": "display_data"
    },
    {
     "data": {
      "text/html": [
       "<pre>| 12160            | 1m 22s       | 68.75%           |</pre>"
      ],
      "text/plain": [
       "| 12160            | 1m 22s       | 68.75%           |"
      ]
     },
     "metadata": {},
     "output_type": "display_data"
    },
    {
     "data": {
      "text/html": [
       "<pre>| 12800            | 1m 26s       | 72.25%           |</pre>"
      ],
      "text/plain": [
       "| 12800            | 1m 26s       | 72.25%           |"
      ]
     },
     "metadata": {},
     "output_type": "display_data"
    },
    {
     "data": {
      "text/html": [
       "<pre>| 13440            | 1m 30s       | 76%              |</pre>"
      ],
      "text/plain": [
       "| 13440            | 1m 30s       | 76%              |"
      ]
     },
     "metadata": {},
     "output_type": "display_data"
    },
    {
     "data": {
      "text/html": [
       "<pre>| 14080            | 1m 35s       | 79.5%            |</pre>"
      ],
      "text/plain": [
       "| 14080            | 1m 35s       | 79.5%            |"
      ]
     },
     "metadata": {},
     "output_type": "display_data"
    },
    {
     "data": {
      "text/html": [
       "<pre>| 14720            | 1m 39s       | 83.25%           |</pre>"
      ],
      "text/plain": [
       "| 14720            | 1m 39s       | 83.25%           |"
      ]
     },
     "metadata": {},
     "output_type": "display_data"
    },
    {
     "data": {
      "text/html": [
       "<pre>| 15360            | 1m 43s       | 86.75%           |</pre>"
      ],
      "text/plain": [
       "| 15360            | 1m 43s       | 86.75%           |"
      ]
     },
     "metadata": {},
     "output_type": "display_data"
    },
    {
     "data": {
      "text/html": [
       "<pre>| 16000            | 1m 47s       | 90.5%            |</pre>"
      ],
      "text/plain": [
       "| 16000            | 1m 47s       | 90.5%            |"
      ]
     },
     "metadata": {},
     "output_type": "display_data"
    },
    {
     "data": {
      "text/html": [
       "<pre>| 16640            | 1m 51s       | 94%              |</pre>"
      ],
      "text/plain": [
       "| 16640            | 1m 51s       | 94%              |"
      ]
     },
     "metadata": {},
     "output_type": "display_data"
    },
    {
     "data": {
      "text/html": [
       "<pre>| 17280            | 1m 55s       | 97.75%           |</pre>"
      ],
      "text/plain": [
       "| 17280            | 1m 55s       | 97.75%           |"
      ]
     },
     "metadata": {},
     "output_type": "display_data"
    },
    {
     "data": {
      "text/html": [
       "<pre>| 17628            | 1m 58s       | 100%             |</pre>"
      ],
      "text/plain": [
       "| 17628            | 1m 58s       | 100%             |"
      ]
     },
     "metadata": {},
     "output_type": "display_data"
    },
    {
     "data": {
      "text/html": [
       "<pre>+------------------+--------------+------------------+</pre>"
      ],
      "text/plain": [
       "+------------------+--------------+------------------+"
      ]
     },
     "metadata": {},
     "output_type": "display_data"
    },
    {
     "data": {
      "text/html": [
       "<pre>Analyzing and extracting image features.</pre>"
      ],
      "text/plain": [
       "Analyzing and extracting image features."
      ]
     },
     "metadata": {},
     "output_type": "display_data"
    },
    {
     "data": {
      "text/html": [
       "<pre>+------------------+--------------+------------------+</pre>"
      ],
      "text/plain": [
       "+------------------+--------------+------------------+"
      ]
     },
     "metadata": {},
     "output_type": "display_data"
    },
    {
     "data": {
      "text/html": [
       "<pre>| Images Processed | Elapsed Time | Percent Complete |</pre>"
      ],
      "text/plain": [
       "| Images Processed | Elapsed Time | Percent Complete |"
      ]
     },
     "metadata": {},
     "output_type": "display_data"
    },
    {
     "data": {
      "text/html": [
       "<pre>+------------------+--------------+------------------+</pre>"
      ],
      "text/plain": [
       "+------------------+--------------+------------------+"
      ]
     },
     "metadata": {},
     "output_type": "display_data"
    },
    {
     "data": {
      "text/html": [
       "<pre>| 64               | 521.269ms    | 1.25%            |</pre>"
      ],
      "text/plain": [
       "| 64               | 521.269ms    | 1.25%            |"
      ]
     },
     "metadata": {},
     "output_type": "display_data"
    },
    {
     "data": {
      "text/html": [
       "<pre>| 128              | 943.726ms    | 2.75%            |</pre>"
      ],
      "text/plain": [
       "| 128              | 943.726ms    | 2.75%            |"
      ]
     },
     "metadata": {},
     "output_type": "display_data"
    },
    {
     "data": {
      "text/html": [
       "<pre>| 192              | 1.36s        | 4.25%            |</pre>"
      ],
      "text/plain": [
       "| 192              | 1.36s        | 4.25%            |"
      ]
     },
     "metadata": {},
     "output_type": "display_data"
    },
    {
     "data": {
      "text/html": [
       "<pre>| 256              | 1.78s        | 5.75%            |</pre>"
      ],
      "text/plain": [
       "| 256              | 1.78s        | 5.75%            |"
      ]
     },
     "metadata": {},
     "output_type": "display_data"
    },
    {
     "data": {
      "text/html": [
       "<pre>| 320              | 2.21s        | 7.25%            |</pre>"
      ],
      "text/plain": [
       "| 320              | 2.21s        | 7.25%            |"
      ]
     },
     "metadata": {},
     "output_type": "display_data"
    },
    {
     "data": {
      "text/html": [
       "<pre>| 640              | 4.31s        | 14.5%            |</pre>"
      ],
      "text/plain": [
       "| 640              | 4.31s        | 14.5%            |"
      ]
     },
     "metadata": {},
     "output_type": "display_data"
    },
    {
     "data": {
      "text/html": [
       "<pre>| 1280             | 8.52s        | 29.25%           |</pre>"
      ],
      "text/plain": [
       "| 1280             | 8.52s        | 29.25%           |"
      ]
     },
     "metadata": {},
     "output_type": "display_data"
    },
    {
     "data": {
      "text/html": [
       "<pre>| 1920             | 12.72s       | 44%              |</pre>"
      ],
      "text/plain": [
       "| 1920             | 12.72s       | 44%              |"
      ]
     },
     "metadata": {},
     "output_type": "display_data"
    },
    {
     "data": {
      "text/html": [
       "<pre>| 2560             | 16.93s       | 58.75%           |</pre>"
      ],
      "text/plain": [
       "| 2560             | 16.93s       | 58.75%           |"
      ]
     },
     "metadata": {},
     "output_type": "display_data"
    },
    {
     "data": {
      "text/html": [
       "<pre>| 3200             | 21.13s       | 73.5%            |</pre>"
      ],
      "text/plain": [
       "| 3200             | 21.13s       | 73.5%            |"
      ]
     },
     "metadata": {},
     "output_type": "display_data"
    },
    {
     "data": {
      "text/html": [
       "<pre>| 3840             | 25.34s       | 88%              |</pre>"
      ],
      "text/plain": [
       "| 3840             | 25.34s       | 88%              |"
      ]
     },
     "metadata": {},
     "output_type": "display_data"
    },
    {
     "data": {
      "text/html": [
       "<pre>| 4324             | 28.53s       | 100%             |</pre>"
      ],
      "text/plain": [
       "| 4324             | 28.53s       | 100%             |"
      ]
     },
     "metadata": {},
     "output_type": "display_data"
    },
    {
     "data": {
      "text/html": [
       "<pre>+------------------+--------------+------------------+</pre>"
      ],
      "text/plain": [
       "+------------------+--------------+------------------+"
      ]
     },
     "metadata": {},
     "output_type": "display_data"
    },
    {
     "data": {
      "text/html": [
       "<pre>Logistic regression:</pre>"
      ],
      "text/plain": [
       "Logistic regression:"
      ]
     },
     "metadata": {},
     "output_type": "display_data"
    },
    {
     "data": {
      "text/html": [
       "<pre>--------------------------------------------------------</pre>"
      ],
      "text/plain": [
       "--------------------------------------------------------"
      ]
     },
     "metadata": {},
     "output_type": "display_data"
    },
    {
     "data": {
      "text/html": [
       "<pre>Number of examples          : 17628</pre>"
      ],
      "text/plain": [
       "Number of examples          : 17628"
      ]
     },
     "metadata": {},
     "output_type": "display_data"
    },
    {
     "data": {
      "text/html": [
       "<pre>Number of classes           : 2</pre>"
      ],
      "text/plain": [
       "Number of classes           : 2"
      ]
     },
     "metadata": {},
     "output_type": "display_data"
    },
    {
     "data": {
      "text/html": [
       "<pre>Number of feature columns   : 1</pre>"
      ],
      "text/plain": [
       "Number of feature columns   : 1"
      ]
     },
     "metadata": {},
     "output_type": "display_data"
    },
    {
     "data": {
      "text/html": [
       "<pre>Number of unpacked features : 1000</pre>"
      ],
      "text/plain": [
       "Number of unpacked features : 1000"
      ]
     },
     "metadata": {},
     "output_type": "display_data"
    },
    {
     "data": {
      "text/html": [
       "<pre>Number of coefficients      : 1001</pre>"
      ],
      "text/plain": [
       "Number of coefficients      : 1001"
      ]
     },
     "metadata": {},
     "output_type": "display_data"
    },
    {
     "data": {
      "text/html": [
       "<pre>Starting L-BFGS</pre>"
      ],
      "text/plain": [
       "Starting L-BFGS"
      ]
     },
     "metadata": {},
     "output_type": "display_data"
    },
    {
     "data": {
      "text/html": [
       "<pre>--------------------------------------------------------</pre>"
      ],
      "text/plain": [
       "--------------------------------------------------------"
      ]
     },
     "metadata": {},
     "output_type": "display_data"
    },
    {
     "data": {
      "text/html": [
       "<pre>+-----------+----------+-----------+--------------+-------------------+---------------------+</pre>"
      ],
      "text/plain": [
       "+-----------+----------+-----------+--------------+-------------------+---------------------+"
      ]
     },
     "metadata": {},
     "output_type": "display_data"
    },
    {
     "data": {
      "text/html": [
       "<pre>| Iteration | Passes   | Step size | Elapsed Time | Training Accuracy | Validation Accuracy |</pre>"
      ],
      "text/plain": [
       "| Iteration | Passes   | Step size | Elapsed Time | Training Accuracy | Validation Accuracy |"
      ]
     },
     "metadata": {},
     "output_type": "display_data"
    },
    {
     "data": {
      "text/html": [
       "<pre>+-----------+----------+-----------+--------------+-------------------+---------------------+</pre>"
      ],
      "text/plain": [
       "+-----------+----------+-----------+--------------+-------------------+---------------------+"
      ]
     },
     "metadata": {},
     "output_type": "display_data"
    },
    {
     "data": {
      "text/html": [
       "<pre>| 0         | 6        | 0.004684  | 1.028750     | 0.504538          | 0.487974            |</pre>"
      ],
      "text/plain": [
       "| 0         | 6        | 0.004684  | 1.028750     | 0.504538          | 0.487974            |"
      ]
     },
     "metadata": {},
     "output_type": "display_data"
    },
    {
     "data": {
      "text/html": [
       "<pre>Warning: Reached max step size.</pre>"
      ],
      "text/plain": [
       "Warning: Reached max step size."
      ]
     },
     "metadata": {},
     "output_type": "display_data"
    },
    {
     "data": {
      "text/html": [
       "<pre>| 1         | 14       | 25.000000 | 2.641516     | 0.788859          | 0.782609            |</pre>"
      ],
      "text/plain": [
       "| 1         | 14       | 25.000000 | 2.641516     | 0.788859          | 0.782609            |"
      ]
     },
     "metadata": {},
     "output_type": "display_data"
    },
    {
     "data": {
      "text/html": [
       "<pre>| 2         | 18       | 6.250000  | 3.615725     | 0.848934          | 0.842044            |</pre>"
      ],
      "text/plain": [
       "| 2         | 18       | 6.250000  | 3.615725     | 0.848934          | 0.842044            |"
      ]
     },
     "metadata": {},
     "output_type": "display_data"
    },
    {
     "data": {
      "text/html": [
       "<pre>| 3         | 21       | 2.035859  | 4.418256     | 0.877014          | 0.872803            |</pre>"
      ],
      "text/plain": [
       "| 3         | 21       | 2.035859  | 4.418256     | 0.877014          | 0.872803            |"
      ]
     },
     "metadata": {},
     "output_type": "display_data"
    },
    {
     "data": {
      "text/html": [
       "<pre>| 4         | 22       | 2.035859  | 4.873709     | 0.887509          | 0.882979            |</pre>"
      ],
      "text/plain": [
       "| 4         | 22       | 2.035859  | 4.873709     | 0.887509          | 0.882979            |"
      ]
     },
     "metadata": {},
     "output_type": "display_data"
    },
    {
     "data": {
      "text/html": [
       "<pre>| 9         | 32       | 1.200745  | 7.954751     | 0.910994          | 0.908418            |</pre>"
      ],
      "text/plain": [
       "| 9         | 32       | 1.200745  | 7.954751     | 0.910994          | 0.908418            |"
      ]
     },
     "metadata": {},
     "output_type": "display_data"
    },
    {
     "data": {
      "text/html": [
       "<pre>| 14        | 38       | 1.200745  | 10.572120    | 0.930338          | 0.931776            |</pre>"
      ],
      "text/plain": [
       "| 14        | 38       | 1.200745  | 10.572120    | 0.930338          | 0.931776            |"
      ]
     },
     "metadata": {},
     "output_type": "display_data"
    },
    {
     "data": {
      "text/html": [
       "<pre>| 19        | 51       | 1.554697  | 14.470091    | 0.935500          | 0.933858            |</pre>"
      ],
      "text/plain": [
       "| 19        | 51       | 1.554697  | 14.470091    | 0.935500          | 0.933858            |"
      ]
     },
     "metadata": {},
     "output_type": "display_data"
    },
    {
     "data": {
      "text/html": [
       "<pre>| 24        | 58       | 1.062992  | 17.190752    | 0.936408          | 0.937095            |</pre>"
      ],
      "text/plain": [
       "| 24        | 58       | 1.062992  | 17.190752    | 0.936408          | 0.937095            |"
      ]
     },
     "metadata": {},
     "output_type": "display_data"
    },
    {
     "data": {
      "text/html": [
       "<pre>| 29        | 69       | 2.030922  | 20.536287    | 0.939415          | 0.939639            |</pre>"
      ],
      "text/plain": [
       "| 29        | 69       | 2.030922  | 20.536287    | 0.939415          | 0.939639            |"
      ]
     },
     "metadata": {},
     "output_type": "display_data"
    },
    {
     "data": {
      "text/html": [
       "<pre>| 34        | 77       | 1.000000  | 23.556438    | 0.941570          | 0.939870            |</pre>"
      ],
      "text/plain": [
       "| 34        | 77       | 1.000000  | 23.556438    | 0.941570          | 0.939870            |"
      ]
     },
     "metadata": {},
     "output_type": "display_data"
    },
    {
     "data": {
      "text/html": [
       "<pre>| 39        | 91       | 1.148195  | 27.420853    | 0.943953          | 0.938945            |</pre>"
      ],
      "text/plain": [
       "| 39        | 91       | 1.148195  | 27.420853    | 0.943953          | 0.938945            |"
      ]
     },
     "metadata": {},
     "output_type": "display_data"
    },
    {
     "data": {
      "text/html": [
       "<pre>| 44        | 98       | 1.000000  | 30.035085    | 0.945144          | 0.939870            |</pre>"
      ],
      "text/plain": [
       "| 44        | 98       | 1.000000  | 30.035085    | 0.945144          | 0.939870            |"
      ]
     },
     "metadata": {},
     "output_type": "display_data"
    },
    {
     "data": {
      "text/html": [
       "<pre>| 49        | 113      | 1.220761  | 33.987966    | 0.945768          | 0.937789            |</pre>"
      ],
      "text/plain": [
       "| 49        | 113      | 1.220761  | 33.987966    | 0.945768          | 0.937789            |"
      ]
     },
     "metadata": {},
     "output_type": "display_data"
    },
    {
     "data": {
      "text/html": [
       "<pre>| 54        | 121      | 0.563753  | 36.804726    | 0.946052          | 0.938714            |</pre>"
      ],
      "text/plain": [
       "| 54        | 121      | 0.563753  | 36.804726    | 0.946052          | 0.938714            |"
      ]
     },
     "metadata": {},
     "output_type": "display_data"
    },
    {
     "data": {
      "text/html": [
       "<pre>| 59        | 132      | 0.085781  | 40.056362    | 0.945825          | 0.937327            |</pre>"
      ],
      "text/plain": [
       "| 59        | 132      | 0.085781  | 40.056362    | 0.945825          | 0.937327            |"
      ]
     },
     "metadata": {},
     "output_type": "display_data"
    },
    {
     "data": {
      "text/html": [
       "<pre>| 64        | 144      | 0.670095  | 43.500441    | 0.945995          | 0.938252            |</pre>"
      ],
      "text/plain": [
       "| 64        | 144      | 0.670095  | 43.500441    | 0.945995          | 0.938252            |"
      ]
     },
     "metadata": {},
     "output_type": "display_data"
    },
    {
     "data": {
      "text/html": [
       "<pre>| 69        | 163      | 0.349614  | 48.173662    | 0.947413          | 0.939639            |</pre>"
      ],
      "text/plain": [
       "| 69        | 163      | 0.349614  | 48.173662    | 0.947413          | 0.939639            |"
      ]
     },
     "metadata": {},
     "output_type": "display_data"
    },
    {
     "data": {
      "text/html": [
       "<pre>| 74        | 173      | 1.642876  | 51.281149    | 0.947470          | 0.940333            |</pre>"
      ],
      "text/plain": [
       "| 74        | 173      | 1.642876  | 51.281149    | 0.947470          | 0.940333            |"
      ]
     },
     "metadata": {},
     "output_type": "display_data"
    },
    {
     "data": {
      "text/html": [
       "<pre>| 79        | 185      | 0.955285  | 54.817433    | 0.947470          | 0.941721            |</pre>"
      ],
      "text/plain": [
       "| 79        | 185      | 0.955285  | 54.817433    | 0.947470          | 0.941721            |"
      ]
     },
     "metadata": {},
     "output_type": "display_data"
    },
    {
     "data": {
      "text/html": [
       "<pre>| 84        | 191      | 1.000000  | 57.251721    | 0.948604          | 0.936864            |</pre>"
      ],
      "text/plain": [
       "| 84        | 191      | 1.000000  | 57.251721    | 0.948604          | 0.936864            |"
      ]
     },
     "metadata": {},
     "output_type": "display_data"
    },
    {
     "data": {
      "text/html": [
       "<pre>| 89        | 202      | 1.193631  | 60.705971    | 0.949853          | 0.939177            |</pre>"
      ],
      "text/plain": [
       "| 89        | 202      | 1.193631  | 60.705971    | 0.949853          | 0.939177            |"
      ]
     },
     "metadata": {},
     "output_type": "display_data"
    },
    {
     "data": {
      "text/html": [
       "<pre>| 94        | 213      | 0.199145  | 63.994657    | 0.949229          | 0.937558            |</pre>"
      ],
      "text/plain": [
       "| 94        | 213      | 0.199145  | 63.994657    | 0.949229          | 0.937558            |"
      ]
     },
     "metadata": {},
     "output_type": "display_data"
    },
    {
     "data": {
      "text/html": [
       "<pre>| 99        | 225      | 1.715098  | 67.468297    | 0.949739          | 0.939408            |</pre>"
      ],
      "text/plain": [
       "| 99        | 225      | 1.715098  | 67.468297    | 0.949739          | 0.939408            |"
      ]
     },
     "metadata": {},
     "output_type": "display_data"
    },
    {
     "data": {
      "text/html": [
       "<pre>+-----------+----------+-----------+--------------+-------------------+---------------------+</pre>"
      ],
      "text/plain": [
       "+-----------+----------+-----------+--------------+-------------------+---------------------+"
      ]
     },
     "metadata": {},
     "output_type": "display_data"
    }
   ],
   "source": [
    "model = tc.image_classifier.create(train_data, target = 'label', max_iterations = 100, \n",
    "                                   validation_set = validate_data, model = 'squeezenet_v1.1')"
   ]
  },
  {
   "cell_type": "code",
   "execution_count": 14,
   "id": "diagnostic-prediction",
   "metadata": {},
   "outputs": [],
   "source": [
    "predictions = model.predict(test_data)"
   ]
  },
  {
   "cell_type": "code",
   "execution_count": 15,
   "id": "confidential-share",
   "metadata": {},
   "outputs": [
    {
     "data": {
      "text/html": [
       "<pre>Analyzing and extracting image features.</pre>"
      ],
      "text/plain": [
       "Analyzing and extracting image features."
      ]
     },
     "metadata": {},
     "output_type": "display_data"
    },
    {
     "data": {
      "text/html": [
       "<pre>+------------------+--------------+------------------+</pre>"
      ],
      "text/plain": [
       "+------------------+--------------+------------------+"
      ]
     },
     "metadata": {},
     "output_type": "display_data"
    },
    {
     "data": {
      "text/html": [
       "<pre>| Images Processed | Elapsed Time | Percent Complete |</pre>"
      ],
      "text/plain": [
       "| Images Processed | Elapsed Time | Percent Complete |"
      ]
     },
     "metadata": {},
     "output_type": "display_data"
    },
    {
     "data": {
      "text/html": [
       "<pre>+------------------+--------------+------------------+</pre>"
      ],
      "text/plain": [
       "+------------------+--------------+------------------+"
      ]
     },
     "metadata": {},
     "output_type": "display_data"
    },
    {
     "data": {
      "text/html": [
       "<pre>| 64               | 521.644ms    | 1%               |</pre>"
      ],
      "text/plain": [
       "| 64               | 521.644ms    | 1%               |"
      ]
     },
     "metadata": {},
     "output_type": "display_data"
    },
    {
     "data": {
      "text/html": [
       "<pre>| 128              | 944.135ms    | 2.25%            |</pre>"
      ],
      "text/plain": [
       "| 128              | 944.135ms    | 2.25%            |"
      ]
     },
     "metadata": {},
     "output_type": "display_data"
    },
    {
     "data": {
      "text/html": [
       "<pre>| 192              | 1.36s        | 3.25%            |</pre>"
      ],
      "text/plain": [
       "| 192              | 1.36s        | 3.25%            |"
      ]
     },
     "metadata": {},
     "output_type": "display_data"
    },
    {
     "data": {
      "text/html": [
       "<pre>| 256              | 1.79s        | 4.5%             |</pre>"
      ],
      "text/plain": [
       "| 256              | 1.79s        | 4.5%             |"
      ]
     },
     "metadata": {},
     "output_type": "display_data"
    },
    {
     "data": {
      "text/html": [
       "<pre>| 320              | 2.21s        | 5.5%             |</pre>"
      ],
      "text/plain": [
       "| 320              | 2.21s        | 5.5%             |"
      ]
     },
     "metadata": {},
     "output_type": "display_data"
    },
    {
     "data": {
      "text/html": [
       "<pre>| 640              | 4.46s        | 11.25%           |</pre>"
      ],
      "text/plain": [
       "| 640              | 4.46s        | 11.25%           |"
      ]
     },
     "metadata": {},
     "output_type": "display_data"
    },
    {
     "data": {
      "text/html": [
       "<pre>| 1280             | 8.66s        | 22.5%            |</pre>"
      ],
      "text/plain": [
       "| 1280             | 8.66s        | 22.5%            |"
      ]
     },
     "metadata": {},
     "output_type": "display_data"
    },
    {
     "data": {
      "text/html": [
       "<pre>| 1920             | 12.85s       | 34%              |</pre>"
      ],
      "text/plain": [
       "| 1920             | 12.85s       | 34%              |"
      ]
     },
     "metadata": {},
     "output_type": "display_data"
    },
    {
     "data": {
      "text/html": [
       "<pre>| 2560             | 17.05s       | 45.25%           |</pre>"
      ],
      "text/plain": [
       "| 2560             | 17.05s       | 45.25%           |"
      ]
     },
     "metadata": {},
     "output_type": "display_data"
    },
    {
     "data": {
      "text/html": [
       "<pre>| 3200             | 21.24s       | 56.75%           |</pre>"
      ],
      "text/plain": [
       "| 3200             | 21.24s       | 56.75%           |"
      ]
     },
     "metadata": {},
     "output_type": "display_data"
    },
    {
     "data": {
      "text/html": [
       "<pre>| 3840             | 25.43s       | 68%              |</pre>"
      ],
      "text/plain": [
       "| 3840             | 25.43s       | 68%              |"
      ]
     },
     "metadata": {},
     "output_type": "display_data"
    },
    {
     "data": {
      "text/html": [
       "<pre>| 4480             | 29.66s       | 79.5%            |</pre>"
      ],
      "text/plain": [
       "| 4480             | 29.66s       | 79.5%            |"
      ]
     },
     "metadata": {},
     "output_type": "display_data"
    },
    {
     "data": {
      "text/html": [
       "<pre>| 5120             | 33.90s       | 90.75%           |</pre>"
      ],
      "text/plain": [
       "| 5120             | 33.90s       | 90.75%           |"
      ]
     },
     "metadata": {},
     "output_type": "display_data"
    },
    {
     "data": {
      "text/html": [
       "<pre>| 5606             | 37.13s       | 100%             |</pre>"
      ],
      "text/plain": [
       "| 5606             | 37.13s       | 100%             |"
      ]
     },
     "metadata": {},
     "output_type": "display_data"
    },
    {
     "data": {
      "text/html": [
       "<pre>+------------------+--------------+------------------+</pre>"
      ],
      "text/plain": [
       "+------------------+--------------+------------------+"
      ]
     },
     "metadata": {},
     "output_type": "display_data"
    }
   ],
   "source": [
    "metrics = model.evaluate(test_data)"
   ]
  },
  {
   "cell_type": "code",
   "execution_count": 16,
   "id": "horizontal-interstate",
   "metadata": {},
   "outputs": [
    {
     "data": {
      "text/plain": [
       "0.9459507670353193"
      ]
     },
     "execution_count": 16,
     "metadata": {},
     "output_type": "execute_result"
    }
   ],
   "source": [
    "metrics['accuracy']"
   ]
  },
  {
   "cell_type": "code",
   "execution_count": 17,
   "id": "laden-flower",
   "metadata": {},
   "outputs": [
    {
     "data": {
      "text/html": [
       "<div style=\"max-height:1000px;max-width:1500px;overflow:auto;\"><table frame=\"box\" rules=\"cols\">\n",
       "    <tr>\n",
       "        <th style=\"padding-left: 1em; padding-right: 1em; text-align: center\">target_label</th>\n",
       "        <th style=\"padding-left: 1em; padding-right: 1em; text-align: center\">predicted_label</th>\n",
       "        <th style=\"padding-left: 1em; padding-right: 1em; text-align: center\">count</th>\n",
       "    </tr>\n",
       "    <tr>\n",
       "        <td style=\"padding-left: 1em; padding-right: 1em; text-align: center; vertical-align: top\">malaria</td>\n",
       "        <td style=\"padding-left: 1em; padding-right: 1em; text-align: center; vertical-align: top\">malaria</td>\n",
       "        <td style=\"padding-left: 1em; padding-right: 1em; text-align: center; vertical-align: top\">2580</td>\n",
       "    </tr>\n",
       "    <tr>\n",
       "        <td style=\"padding-left: 1em; padding-right: 1em; text-align: center; vertical-align: top\">malaria</td>\n",
       "        <td style=\"padding-left: 1em; padding-right: 1em; text-align: center; vertical-align: top\">not malaria</td>\n",
       "        <td style=\"padding-left: 1em; padding-right: 1em; text-align: center; vertical-align: top\">195</td>\n",
       "    </tr>\n",
       "    <tr>\n",
       "        <td style=\"padding-left: 1em; padding-right: 1em; text-align: center; vertical-align: top\">not malaria</td>\n",
       "        <td style=\"padding-left: 1em; padding-right: 1em; text-align: center; vertical-align: top\">malaria</td>\n",
       "        <td style=\"padding-left: 1em; padding-right: 1em; text-align: center; vertical-align: top\">108</td>\n",
       "    </tr>\n",
       "    <tr>\n",
       "        <td style=\"padding-left: 1em; padding-right: 1em; text-align: center; vertical-align: top\">not malaria</td>\n",
       "        <td style=\"padding-left: 1em; padding-right: 1em; text-align: center; vertical-align: top\">not malaria</td>\n",
       "        <td style=\"padding-left: 1em; padding-right: 1em; text-align: center; vertical-align: top\">2723</td>\n",
       "    </tr>\n",
       "</table>\n",
       "[4 rows x 3 columns]<br/>\n",
       "</div>"
      ],
      "text/plain": [
       "Columns:\n",
       "\ttarget_label\tstr\n",
       "\tpredicted_label\tstr\n",
       "\tcount\tint\n",
       "\n",
       "Rows: 4\n",
       "\n",
       "Data:\n",
       "+--------------+-----------------+-------+\n",
       "| target_label | predicted_label | count |\n",
       "+--------------+-----------------+-------+\n",
       "|   malaria    |     malaria     |  2580 |\n",
       "|   malaria    |   not malaria   |  195  |\n",
       "| not malaria  |     malaria     |  108  |\n",
       "| not malaria  |   not malaria   |  2723 |\n",
       "+--------------+-----------------+-------+\n",
       "[4 rows x 3 columns]"
      ]
     },
     "execution_count": 17,
     "metadata": {},
     "output_type": "execute_result"
    }
   ],
   "source": [
    "metrics['confusion_matrix']"
   ]
  },
  {
   "cell_type": "code",
   "execution_count": 18,
   "id": "stopped-independence",
   "metadata": {},
   "outputs": [
    {
     "name": "stdout",
     "output_type": "stream",
     "text": [
      "Class                                    : ImageClassifier\n",
      "\n",
      "Schema\n",
      "------\n",
      "Number of classes                        : 2\n",
      "Number of feature columns                : 1\n",
      "Input image shape                        : (3, 227, 227)\n",
      "\n",
      "Training summary\n",
      "----------------\n",
      "Number of examples                       : 17628\n",
      "Training loss                            : 2592.752\n",
      "Training time (sec)                      : 226.9294\n",
      "\n"
     ]
    }
   ],
   "source": [
    "model.summary()"
   ]
  },
  {
   "cell_type": "code",
   "execution_count": 19,
   "id": "fourth-listening",
   "metadata": {},
   "outputs": [
    {
     "data": {
      "text/plain": [
       "{'accuracy': 0.9459507670353193,\n",
       " 'f1_score': 0.9472951817707428,\n",
       " 'log_loss': 0.16308201934417618,\n",
       " 'precision': 0.933173406442769,\n",
       " 'recall': 0.9618509360649947,\n",
       " 'auc': 0.9831732969281558,\n",
       " 'roc_curve': Columns:\n",
       " \tthreshold\tfloat\n",
       " \tfpr\tfloat\n",
       " \ttpr\tfloat\n",
       " \tp\tint\n",
       " \tn\tint\n",
       " \n",
       " Rows: 1001\n",
       " \n",
       " Data:\n",
       " +-----------+---------------------+--------------------+------+------+\n",
       " | threshold |         fpr         |        tpr         |  p   |  n   |\n",
       " +-----------+---------------------+--------------------+------+------+\n",
       " |    0.0    |         1.0         |        1.0         | 2831 | 2775 |\n",
       " |   0.001   |  0.5477477477477477 | 0.9978806075591664 | 2831 | 2775 |\n",
       " |   0.002   | 0.47783783783783784 | 0.9971741434122219 | 2831 | 2775 |\n",
       " |   0.003   | 0.44144144144144143 | 0.9968209113387495 | 2831 | 2775 |\n",
       " |   0.004   | 0.41225225225225226 | 0.996114447191805  | 2831 | 2775 |\n",
       " |   0.005   |  0.3902702702702703 | 0.9957612151183327 | 2831 | 2775 |\n",
       " |   0.006   |  0.3715315315315315 | 0.9954079830448604 | 2831 | 2775 |\n",
       " |   0.007   |  0.3574774774774775 | 0.9950547509713882 | 2831 | 2775 |\n",
       " |   0.008   |  0.3441441441441441 | 0.9939950547509714 | 2831 | 2775 |\n",
       " |   0.009   | 0.33405405405405403 | 0.9936418226774991 | 2831 | 2775 |\n",
       " +-----------+---------------------+--------------------+------+------+\n",
       " [1001 rows x 5 columns]\n",
       " Note: Only the head of the SFrame is printed.\n",
       " You can use print_rows(num_rows=m, num_columns=n) to print more rows and columns.,\n",
       " 'confusion_matrix': Columns:\n",
       " \ttarget_label\tstr\n",
       " \tpredicted_label\tstr\n",
       " \tcount\tint\n",
       " \n",
       " Rows: 4\n",
       " \n",
       " Data:\n",
       " +--------------+-----------------+-------+\n",
       " | target_label | predicted_label | count |\n",
       " +--------------+-----------------+-------+\n",
       " |   malaria    |     malaria     |  2580 |\n",
       " |   malaria    |   not malaria   |  195  |\n",
       " | not malaria  |     malaria     |  108  |\n",
       " | not malaria  |   not malaria   |  2723 |\n",
       " +--------------+-----------------+-------+\n",
       " [4 rows x 3 columns]}"
      ]
     },
     "execution_count": 19,
     "metadata": {},
     "output_type": "execute_result"
    }
   ],
   "source": [
    "metrics"
   ]
  },
  {
   "cell_type": "code",
   "execution_count": 33,
   "id": "informational-species",
   "metadata": {},
   "outputs": [
    {
     "data": {
      "image/png": "[encoded data removed]",
      "text/plain": [
       "<Figure size 432x288 with 1 Axes>"
      ]
     },
     "metadata": {
      "needs_background": "light"
     },
     "output_type": "display_data"
    }
   ],
   "source": [
    "plt.plot(metrics['roc_curve']['fpr'],\n",
    "        metrics['roc_curve']['tpr'],\n",
    "        color = 'green')\n",
    "plt.plot([0,1],[0,1], \n",
    "         linestyle = '--',\n",
    "         color = 'cornflowerblue')\n",
    "plt.title('ROC Curve')\n",
    "plt.xlabel('False positive rate')\n",
    "plt.ylabel('True positive rate')\n",
    "plt.show()"
   ]
  },
  {
   "cell_type": "code",
   "execution_count": null,
   "id": "aging-graham",
   "metadata": {},
   "outputs": [],
   "source": []
  }
 ],
 "metadata": {
  "kernelspec": {
   "display_name": "Python 3",
   "language": "python",
   "name": "python3"
  },
  "language_info": {
   "codemirror_mode": {
    "name": "ipython",
    "version": 3
   },
   "file_extension": ".py",
   "mimetype": "text/x-python",
   "name": "python",
   "nbconvert_exporter": "python",
   "pygments_lexer": "ipython3",
   "version": "3.6.13"
  }
 },
 "nbformat": 4,
 "nbformat_minor": 5
}
